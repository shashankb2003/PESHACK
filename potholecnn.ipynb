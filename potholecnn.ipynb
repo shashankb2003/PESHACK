{
 "cells": [
  {
   "cell_type": "code",
   "execution_count": 81,
   "id": "d629b528",
   "metadata": {},
   "outputs": [],
   "source": [
    "import tensorflow as tf\n",
    "import PIL\n",
    "import os\n",
    "import numpy as np\n",
    "import cv2\n",
    "import zipfile\n",
    "from keras.callbacks import ModelCheckpoint\n",
    "from tensorflow import keras\n",
    "from tensorflow.keras import layers\n",
    "from tensorflow.keras.layers import Dense, Flatten, Dropout\n",
    "from tensorflow.keras.models import Sequential"
   ]
  },
  {
   "cell_type": "code",
   "execution_count": 82,
   "id": "0e5dffc9",
   "metadata": {
    "scrolled": true
   },
   "outputs": [
    {
     "data": {
      "text/plain": [
       "[PhysicalDevice(name='/physical_device:CPU:0', device_type='CPU'),\n",
       " PhysicalDevice(name='/physical_device:GPU:0', device_type='GPU')]"
      ]
     },
     "execution_count": 82,
     "metadata": {},
     "output_type": "execute_result"
    }
   ],
   "source": [
    "tf.config.experimental.list_physical_devices()"
   ]
  },
  {
   "cell_type": "code",
   "execution_count": 83,
   "id": "556ec564",
   "metadata": {},
   "outputs": [
    {
     "name": "stdout",
     "output_type": "stream",
     "text": [
      "Found 883 files belonging to 2 classes.\n",
      "Using 707 files for training.\n",
      "Found 883 files belonging to 2 classes.\n",
      "Using 176 files for validation.\n"
     ]
    }
   ],
   "source": [
    "import pathlib\n",
    "\n",
    "img_height,img_width,batch_size=300,300,32\n",
    "folder_dir = r\"C:\\Users\\Pranav\\OneDrive\\Desktop\\New folder\"\n",
    "  \n",
    "train_ds = tf.keras.utils.image_dataset_from_directory(\n",
    "  folder_dir,\n",
    "  seed=130,\n",
    "  validation_split=0.2,\n",
    "  subset=\"training\",\n",
    "  image_size=(img_height, img_width),\n",
    "  batch_size=batch_size)\n",
    "val_ds = tf.keras.utils.image_dataset_from_directory(\n",
    "  folder_dir,\n",
    "  seed=130,\n",
    "  validation_split=0.2,\n",
    "  subset=\"validation\",\n",
    "  image_size=(img_height, img_width), \n",
    "  batch_size=batch_size)\n",
    "class_names=train_ds.class_names\n",
    "\n",
    "classes={0:\"No Pothole\",1:\"Pothole\"}\n"
   ]
  },
  {
   "cell_type": "code",
   "execution_count": 14,
   "id": "19194217",
   "metadata": {},
   "outputs": [],
   "source": [
    "import matplotlib.pyplot as plt\n"
   ]
  },
  {
   "cell_type": "code",
   "execution_count": null,
   "id": "87e767a3",
   "metadata": {},
   "outputs": [],
   "source": []
  },
  {
   "cell_type": "code",
   "execution_count": 85,
   "id": "a10c50e1",
   "metadata": {},
   "outputs": [],
   "source": [
    "def generate_callback(path = \"/content/drive/MyDrive/fabric_classification/\", filename = \"placeholder\"):\n",
    "    checkpoint = ModelCheckpoint(filepath = f'{path}{filename}.h5', monitor='val_accuracy', \n",
    "                             verbose=1, save_best_only=True, mode='max')\n",
    "\n",
    "    return checkpoint"
   ]
  },
  {
   "cell_type": "code",
   "execution_count": 86,
   "id": "ac9c104f",
   "metadata": {},
   "outputs": [],
   "source": [
    "AUTOTUNE = tf.data.AUTOTUNE\n",
    "\n",
    "train_ds = train_ds.cache().prefetch(buffer_size=AUTOTUNE)\n",
    "val_ds = val_ds.cache().prefetch(buffer_size=AUTOTUNE)"
   ]
  },
  {
   "cell_type": "code",
   "execution_count": 87,
   "id": "5cb2232c",
   "metadata": {},
   "outputs": [],
   "source": [
    "da = tf.keras.Sequential(\n",
    "    [\n",
    "        tf.keras.layers.RandomContrast(0.5),\n",
    "        tf.keras.layers.RandomZoom(0.5),\n",
    "        tf.keras.layers.RandomRotation(0.5)\n",
    "    ]\n",
    ")"
   ]
  },
  {
   "cell_type": "code",
   "execution_count": 90,
   "id": "8e00f977",
   "metadata": {},
   "outputs": [],
   "source": [
    "num_classes = 2\n",
    "resnet_model=Sequential()\n",
    "pretrained_model=tf.keras.applications.ResNet50(\n",
    "    include_top=False,\n",
    "    input_shape=(img_height,img_width,3),\n",
    "    pooling='max',\n",
    "    classes=num_classes\n",
    ")\n",
    "\n",
    "for layer in pretrained_model.layers:\n",
    "    layer.trainable=False\n",
    "\n",
    "resnet_model.add(pretrained_model)\n",
    "resnet_model.add(Flatten())\n",
    "resnet_model.add(Dense(128, activation='relu'))\n",
    "resnet_model.add(Dropout(0.6))\n",
    "resnet_model.add(Dense(64, activation='relu'))\n",
    "resnet_model.add(Dropout(0.3))\n",
    "resnet_model.add(Dense(num_classes, activation='softmax'))"
   ]
  },
  {
   "cell_type": "code",
   "execution_count": 91,
   "id": "993e7e7b",
   "metadata": {},
   "outputs": [
    {
     "name": "stdout",
     "output_type": "stream",
     "text": [
      "Model: \"sequential_11\"\n",
      "_________________________________________________________________\n",
      " Layer (type)                Output Shape              Param #   \n",
      "=================================================================\n",
      " resnet50 (Functional)       (None, 2048)              23587712  \n",
      "                                                                 \n",
      " flatten_6 (Flatten)         (None, 2048)              0         \n",
      "                                                                 \n",
      " dense_12 (Dense)            (None, 128)               262272    \n",
      "                                                                 \n",
      " dropout_6 (Dropout)         (None, 128)               0         \n",
      "                                                                 \n",
      " dense_13 (Dense)            (None, 64)                8256      \n",
      "                                                                 \n",
      " dropout_7 (Dropout)         (None, 64)                0         \n",
      "                                                                 \n",
      " dense_14 (Dense)            (None, 2)                 130       \n",
      "                                                                 \n",
      "=================================================================\n",
      "Total params: 23,858,370\n",
      "Trainable params: 270,658\n",
      "Non-trainable params: 23,587,712\n",
      "_________________________________________________________________\n"
     ]
    }
   ],
   "source": [
    "resnet_model.summary()"
   ]
  },
  {
   "cell_type": "code",
   "execution_count": 92,
   "id": "f3c8557d",
   "metadata": {},
   "outputs": [
    {
     "name": "stdout",
     "output_type": "stream",
     "text": [
      "Epoch 1/5\n",
      "22/23 [===========================>..] - ETA: 0s - loss: 5.4744 - accuracy: 0.6136\n",
      "Epoch 1: val_accuracy improved from -inf to 0.76705, saving model to /content/drive/MyDrive/fabric_classification\\tomfile.h5\n",
      "23/23 [==============================] - 13s 468ms/step - loss: 5.4552 - accuracy: 0.6139 - val_loss: 0.6364 - val_accuracy: 0.7670\n",
      "Epoch 2/5\n",
      "22/23 [===========================>..] - ETA: 0s - loss: 1.2805 - accuracy: 0.7614\n",
      "Epoch 2: val_accuracy improved from 0.76705 to 0.93750, saving model to /content/drive/MyDrive/fabric_classification\\tomfile.h5\n",
      "23/23 [==============================] - 9s 416ms/step - loss: 1.2816 - accuracy: 0.7595 - val_loss: 0.2138 - val_accuracy: 0.9375\n",
      "Epoch 3/5\n",
      "22/23 [===========================>..] - ETA: 0s - loss: 0.6002 - accuracy: 0.7528\n",
      "Epoch 3: val_accuracy did not improve from 0.93750\n",
      "23/23 [==============================] - 9s 406ms/step - loss: 0.6026 - accuracy: 0.7511 - val_loss: 0.3341 - val_accuracy: 0.8864\n",
      "Epoch 4/5\n",
      "22/23 [===========================>..] - ETA: 0s - loss: 0.5005 - accuracy: 0.6136\n",
      "Epoch 4: val_accuracy did not improve from 0.93750\n",
      "23/23 [==============================] - 9s 405ms/step - loss: 0.5002 - accuracy: 0.6153 - val_loss: 0.2957 - val_accuracy: 0.8807\n",
      "Epoch 5/5\n",
      "22/23 [===========================>..] - ETA: 0s - loss: 0.5480 - accuracy: 0.6335\n",
      "Epoch 5: val_accuracy did not improve from 0.93750\n",
      "23/23 [==============================] - 9s 407ms/step - loss: 0.5477 - accuracy: 0.6337 - val_loss: 0.2494 - val_accuracy: 0.8693\n"
     ]
    }
   ],
   "source": [
    "resnet_model.compile(\n",
    "  optimizer='adam',\n",
    "  loss='sparse_categorical_crossentropy',\n",
    "  metrics=['accuracy'])\n",
    "checkpoint = generate_callback(\"/content/drive/MyDrive/fabric_classification/\", \"tomfile\")\n",
    "epochs=5\n",
    "hist=resnet_model.fit(\n",
    "    train_ds,\n",
    "    validation_data=val_ds,\n",
    "    epochs=epochs, callbacks=[checkpoint])"
   ]
  },
  {
   "cell_type": "code",
   "execution_count": 114,
   "id": "fe7059e0",
   "metadata": {},
   "outputs": [
    {
     "name": "stderr",
     "output_type": "stream",
     "text": [
      "WARNING:absl:Found untraced functions such as _jit_compiled_convolution_op, _jit_compiled_convolution_op, _jit_compiled_convolution_op, _jit_compiled_convolution_op, _jit_compiled_convolution_op while saving (showing 5 of 53). These functions will not be directly callable after loading.\n"
     ]
    },
    {
     "name": "stdout",
     "output_type": "stream",
     "text": [
      "INFO:tensorflow:Assets written to: C:\\Users\\Pranav\\AppData\\Local\\Temp\\tmpf_4obydz\\assets\n"
     ]
    },
    {
     "name": "stderr",
     "output_type": "stream",
     "text": [
      "INFO:tensorflow:Assets written to: C:\\Users\\Pranav\\AppData\\Local\\Temp\\tmpf_4obydz\\assets\n"
     ]
    },
    {
     "data": {
      "text/plain": [
       "95050988"
      ]
     },
     "execution_count": 114,
     "metadata": {},
     "output_type": "execute_result"
    }
   ],
   "source": [
    "converter=tf.lite.TFLiteConverter.from_keras_model(resnet_model)\n",
    "tflite_model=converter.convert()\n",
    "open(\"linear2.tflite\", \"wb\").write(tflite_model)"
   ]
  },
  {
   "cell_type": "code",
   "execution_count": 23,
   "id": "0ac9e0f1",
   "metadata": {
    "scrolled": true
   },
   "outputs": [
    {
     "name": "stdout",
     "output_type": "stream",
     "text": [
      "21/21 [==============================] - 7s 303ms/step - loss: 0.4340 - accuracy: 0.8458\n"
     ]
    },
    {
     "data": {
      "text/plain": [
       "[0.43398186564445496, 0.8457943797111511]"
      ]
     },
     "execution_count": 23,
     "metadata": {},
     "output_type": "execute_result"
    }
   ],
   "source": [
    "resnet_model.evaluate(val_ds)"
   ]
  },
  {
   "cell_type": "code",
   "execution_count": 94,
   "id": "719b9c30",
   "metadata": {
    "scrolled": true
   },
   "outputs": [
    {
     "name": "stdout",
     "output_type": "stream",
     "text": [
      "6/6 [==============================] - 3s 356ms/step\n"
     ]
    },
    {
     "data": {
      "text/plain": [
       "array([[2.73178634e-03, 9.97268200e-01],\n",
       "       [5.04075200e-04, 9.99495864e-01],\n",
       "       [6.86365440e-02, 9.31363463e-01],\n",
       "       [9.98753428e-01, 1.24657981e-03],\n",
       "       [6.66111588e-01, 3.33888471e-01],\n",
       "       [4.99287963e-01, 5.00712037e-01],\n",
       "       [8.59150946e-01, 1.40849069e-01],\n",
       "       [8.50707069e-02, 9.14929330e-01],\n",
       "       [5.34048828e-04, 9.99466002e-01],\n",
       "       [8.03144872e-01, 1.96855158e-01],\n",
       "       [3.49535793e-02, 9.65046406e-01],\n",
       "       [5.47728121e-01, 4.52271909e-01],\n",
       "       [4.67083395e-01, 5.32916605e-01],\n",
       "       [7.85503805e-01, 2.14496225e-01],\n",
       "       [6.04269793e-04, 9.99395728e-01],\n",
       "       [2.86821067e-01, 7.13178933e-01],\n",
       "       [5.34839667e-02, 9.46516037e-01],\n",
       "       [2.90722307e-02, 9.70927775e-01],\n",
       "       [1.13244485e-02, 9.88675594e-01],\n",
       "       [3.12495958e-02, 9.68750358e-01],\n",
       "       [4.48415130e-02, 9.55158532e-01],\n",
       "       [9.50612843e-01, 4.93871421e-02],\n",
       "       [1.22115258e-02, 9.87788498e-01],\n",
       "       [4.86257859e-03, 9.95137393e-01],\n",
       "       [9.34296787e-01, 6.57032505e-02],\n",
       "       [7.55814970e-01, 2.44185045e-01],\n",
       "       [1.61253706e-01, 8.38746309e-01],\n",
       "       [2.25776941e-01, 7.74223089e-01],\n",
       "       [1.63577273e-01, 8.36422682e-01],\n",
       "       [4.99287963e-01, 5.00712037e-01],\n",
       "       [1.59394345e-03, 9.98406112e-01],\n",
       "       [7.32204318e-01, 2.67795652e-01],\n",
       "       [1.18020675e-04, 9.99881983e-01],\n",
       "       [1.38498871e-02, 9.86150086e-01],\n",
       "       [7.34018624e-01, 2.65981346e-01],\n",
       "       [4.99287963e-01, 5.00712037e-01],\n",
       "       [7.56868064e-01, 2.43131906e-01],\n",
       "       [4.99287963e-01, 5.00712037e-01],\n",
       "       [2.67644018e-01, 7.32356012e-01],\n",
       "       [4.80391271e-02, 9.51960921e-01],\n",
       "       [9.98485386e-01, 1.51466823e-03],\n",
       "       [8.23659658e-01, 1.76340342e-01],\n",
       "       [1.78440083e-02, 9.82155979e-01],\n",
       "       [4.99287963e-01, 5.00712037e-01],\n",
       "       [1.15853148e-02, 9.88414645e-01],\n",
       "       [2.89940797e-02, 9.71005976e-01],\n",
       "       [8.11333186e-04, 9.99188721e-01],\n",
       "       [1.38075920e-02, 9.86192405e-01],\n",
       "       [9.70046073e-02, 9.02995408e-01],\n",
       "       [4.99287963e-01, 5.00712037e-01],\n",
       "       [2.98940614e-02, 9.70105946e-01],\n",
       "       [2.10376292e-01, 7.89623678e-01],\n",
       "       [9.14291799e-01, 8.57081711e-02],\n",
       "       [7.27446675e-01, 2.72553295e-01],\n",
       "       [1.47249714e-01, 8.52750301e-01],\n",
       "       [5.38419336e-02, 9.46158051e-01],\n",
       "       [8.81093025e-01, 1.18906990e-01],\n",
       "       [7.81937480e-01, 2.18062580e-01],\n",
       "       [7.11607337e-02, 9.28839207e-01],\n",
       "       [4.28348314e-03, 9.95716512e-01],\n",
       "       [7.84572482e-01, 2.15427577e-01],\n",
       "       [4.99809176e-01, 5.00190794e-01],\n",
       "       [1.16415560e-01, 8.83584499e-01],\n",
       "       [2.37899587e-01, 7.62100458e-01],\n",
       "       [9.76623058e-01, 2.33769435e-02],\n",
       "       [4.73568998e-02, 9.52643037e-01],\n",
       "       [3.15622892e-05, 9.99968410e-01],\n",
       "       [4.16025877e-01, 5.83974123e-01],\n",
       "       [2.52108395e-01, 7.47891605e-01],\n",
       "       [5.49996551e-03, 9.94500041e-01],\n",
       "       [2.13401951e-02, 9.78659809e-01],\n",
       "       [6.92346832e-03, 9.93076563e-01],\n",
       "       [9.95480776e-01, 4.51916596e-03],\n",
       "       [9.92265344e-01, 7.73472572e-03],\n",
       "       [9.82048452e-01, 1.79515760e-02],\n",
       "       [1.40335426e-01, 8.59664619e-01],\n",
       "       [7.66363647e-03, 9.92336333e-01],\n",
       "       [4.00624275e-02, 9.59937513e-01],\n",
       "       [9.23635960e-02, 9.07636404e-01],\n",
       "       [2.11011589e-01, 7.88988352e-01],\n",
       "       [1.75576106e-01, 8.24423909e-01],\n",
       "       [2.79875146e-03, 9.97201204e-01],\n",
       "       [8.01790357e-01, 1.98209673e-01],\n",
       "       [1.26144081e-01, 8.73855948e-01],\n",
       "       [2.77873259e-02, 9.72212732e-01],\n",
       "       [9.99912739e-01, 8.72724995e-05],\n",
       "       [2.44378671e-01, 7.55621314e-01],\n",
       "       [4.99287963e-01, 5.00712037e-01],\n",
       "       [3.20699066e-01, 6.79300904e-01],\n",
       "       [2.91738636e-03, 9.97082651e-01],\n",
       "       [2.41734553e-03, 9.97582674e-01],\n",
       "       [6.55883253e-01, 3.44116688e-01],\n",
       "       [9.49312210e-01, 5.06877266e-02],\n",
       "       [9.95191097e-01, 4.80890134e-03],\n",
       "       [3.47354896e-02, 9.65264499e-01],\n",
       "       [9.86005664e-01, 1.39943268e-02],\n",
       "       [7.30078876e-01, 2.69921124e-01],\n",
       "       [9.21817124e-01, 7.81828910e-02],\n",
       "       [9.79339797e-03, 9.90206659e-01],\n",
       "       [2.73771495e-01, 7.26228476e-01],\n",
       "       [9.05290067e-01, 9.47099105e-02],\n",
       "       [2.59770025e-02, 9.74022925e-01],\n",
       "       [4.99287963e-01, 5.00712037e-01],\n",
       "       [9.33466494e-01, 6.65334985e-02],\n",
       "       [9.97266173e-01, 2.73386179e-03],\n",
       "       [1.62983283e-01, 8.37016702e-01],\n",
       "       [7.66628683e-01, 2.33371332e-01],\n",
       "       [1.40814055e-02, 9.85918641e-01],\n",
       "       [3.25893029e-03, 9.96741116e-01],\n",
       "       [1.98548604e-02, 9.80145097e-01],\n",
       "       [3.45332478e-03, 9.96546686e-01],\n",
       "       [9.09295738e-01, 9.07042548e-02],\n",
       "       [2.94688973e-04, 9.99705255e-01],\n",
       "       [7.00926244e-01, 2.99073726e-01],\n",
       "       [2.55728629e-03, 9.97442722e-01],\n",
       "       [8.76789838e-02, 9.12320971e-01],\n",
       "       [5.01727641e-01, 4.98272389e-01],\n",
       "       [1.79896057e-02, 9.82010424e-01],\n",
       "       [7.43400395e-01, 2.56599605e-01],\n",
       "       [5.27881784e-04, 9.99472082e-01],\n",
       "       [4.26018611e-03, 9.95739818e-01],\n",
       "       [1.17900595e-03, 9.98820961e-01],\n",
       "       [9.88958716e-01, 1.10413050e-02],\n",
       "       [8.19820046e-01, 1.80179968e-01],\n",
       "       [9.13473070e-02, 9.08652663e-01],\n",
       "       [9.97396231e-01, 2.60377978e-03],\n",
       "       [7.81393871e-02, 9.21860635e-01],\n",
       "       [8.12788010e-01, 1.87211946e-01],\n",
       "       [1.19551279e-01, 8.80448699e-01],\n",
       "       [2.26269551e-02, 9.77373004e-01],\n",
       "       [4.61588008e-03, 9.95384157e-01],\n",
       "       [8.44391644e-01, 1.55608356e-01],\n",
       "       [9.99325633e-01, 6.74344716e-04],\n",
       "       [4.45646763e-01, 5.54353237e-01],\n",
       "       [4.61560577e-01, 5.38439393e-01],\n",
       "       [1.15948230e-01, 8.84051740e-01],\n",
       "       [1.17371306e-02, 9.88262832e-01],\n",
       "       [9.75612164e-01, 2.43878216e-02],\n",
       "       [3.03506502e-04, 9.99696493e-01],\n",
       "       [9.98758793e-01, 1.24117592e-03],\n",
       "       [2.41008893e-01, 7.58991122e-01],\n",
       "       [4.43468779e-01, 5.56531250e-01],\n",
       "       [8.44291586e-04, 9.99155760e-01],\n",
       "       [3.02516431e-01, 6.97483599e-01],\n",
       "       [5.62096387e-03, 9.94378984e-01],\n",
       "       [1.12823956e-03, 9.98871744e-01],\n",
       "       [9.58654642e-01, 4.13453765e-02],\n",
       "       [9.83966172e-01, 1.60338115e-02],\n",
       "       [9.80234087e-01, 1.97659153e-02],\n",
       "       [7.36731105e-03, 9.92632687e-01],\n",
       "       [9.95897651e-01, 4.10238514e-03],\n",
       "       [3.27592827e-02, 9.67240751e-01],\n",
       "       [6.17372513e-01, 3.82627457e-01],\n",
       "       [9.60628748e-01, 3.93712968e-02],\n",
       "       [1.84229272e-03, 9.98157680e-01],\n",
       "       [3.09845712e-02, 9.69015479e-01],\n",
       "       [7.33335674e-01, 2.66664326e-01],\n",
       "       [1.87384766e-02, 9.81261551e-01],\n",
       "       [6.16742134e-01, 3.83257836e-01],\n",
       "       [2.81069055e-03, 9.97189343e-01],\n",
       "       [4.51504588e-02, 9.54849541e-01],\n",
       "       [5.07372722e-04, 9.99492645e-01],\n",
       "       [9.87838864e-01, 1.21611981e-02],\n",
       "       [5.34147501e-01, 4.65852469e-01],\n",
       "       [6.05829000e-01, 3.94170970e-01],\n",
       "       [4.37619649e-02, 9.56238091e-01],\n",
       "       [4.45330411e-01, 5.54669619e-01],\n",
       "       [9.08610284e-01, 9.13897678e-02],\n",
       "       [1.78444967e-01, 8.21555018e-01],\n",
       "       [4.99286622e-01, 5.00713408e-01],\n",
       "       [1.03473388e-01, 8.96526635e-01],\n",
       "       [4.99287963e-01, 5.00712037e-01],\n",
       "       [1.96684718e-01, 8.03315282e-01],\n",
       "       [6.24107309e-02, 9.37589228e-01],\n",
       "       [2.12976530e-01, 7.87023485e-01],\n",
       "       [2.07508113e-02, 9.79249179e-01]], dtype=float32)"
      ]
     },
     "execution_count": 94,
     "metadata": {},
     "output_type": "execute_result"
    }
   ],
   "source": [
    "prediction=resnet_model.predict(val_ds)\n",
    "prediction"
   ]
  },
  {
   "cell_type": "code",
   "execution_count": 95,
   "id": "f6dffbdb",
   "metadata": {},
   "outputs": [],
   "source": [
    "pred_val = tf.argmax(prediction, axis=1)\n",
    "test_val = tf.concat([y for x, y in val_ds], axis=0)"
   ]
  },
  {
   "cell_type": "code",
   "execution_count": 96,
   "id": "882ac75e",
   "metadata": {
    "scrolled": false
   },
   "outputs": [
    {
     "name": "stdout",
     "output_type": "stream",
     "text": [
      "              precision    recall  f1-score   support\n",
      "\n",
      "           0       0.90      0.76      0.82        70\n",
      "           1       0.85      0.94      0.90       106\n",
      "\n",
      "    accuracy                           0.87       176\n",
      "   macro avg       0.88      0.85      0.86       176\n",
      "weighted avg       0.87      0.87      0.87       176\n",
      "\n"
     ]
    }
   ],
   "source": [
    "from sklearn.metrics import classification_report, confusion_matrix\n",
    "\n",
    "print(classification_report(test_val, pred_val))"
   ]
  },
  {
   "cell_type": "code",
   "execution_count": 116,
   "id": "50cac321",
   "metadata": {},
   "outputs": [
    {
     "data": {
      "text/plain": [
       "(-0.5, 299.5, 299.5, -0.5)"
      ]
     },
     "execution_count": 116,
     "metadata": {},
     "output_type": "execute_result"
    },
    {
     "data": {
      "image/png": "[encoded data removed]",
      "text/plain": [
       "<Figure size 640x480 with 1 Axes>"
      ]
     },
     "metadata": {},
     "output_type": "display_data"
    }
   ],
   "source": [
    "from PIL import Image\n",
    "from PIL.Image import Resampling\n",
    "img=Image.open(r\"C:\\Users\\Pranav\\OneDrive\\Desktop\\s1.jpg\").resize((300,300))\n",
    "Image.Resampling.LANCZOS\n",
    "ax=plt.subplot(3, 3, 3)\n",
    "plt.imshow(img)\n",
    "plt.axis(\"off\")"
   ]
  },
  {
   "cell_type": "code",
   "execution_count": 117,
   "id": "7f11c1fc",
   "metadata": {},
   "outputs": [
    {
     "data": {
      "text/plain": [
       "(1, 300, 300, 3)"
      ]
     },
     "execution_count": 117,
     "metadata": {},
     "output_type": "execute_result"
    }
   ],
   "source": [
    "imarr=np.array(img)\n",
    "imarr[np.newaxis, ...].shape"
   ]
  },
  {
   "cell_type": "code",
   "execution_count": null,
   "id": "5bf597d0",
   "metadata": {},
   "outputs": [],
   "source": []
  },
  {
   "cell_type": "code",
   "execution_count": 118,
   "id": "7e5d8f6f",
   "metadata": {},
   "outputs": [
    {
     "name": "stdout",
     "output_type": "stream",
     "text": [
      "1/1 [==============================] - 0s 57ms/step\n"
     ]
    },
    {
     "data": {
      "text/plain": [
       "0"
      ]
     },
     "execution_count": 118,
     "metadata": {},
     "output_type": "execute_result"
    }
   ],
   "source": [
    "pred=resnet_model.predict(imarr[np.newaxis, ...])\n",
    "np.argmax(pred)"
   ]
  },
  {
   "cell_type": "code",
   "execution_count": 119,
   "id": "b58dfa29",
   "metadata": {},
   "outputs": [
    {
     "data": {
      "text/plain": [
       "'Not Pothole'"
      ]
     },
     "execution_count": 119,
     "metadata": {},
     "output_type": "execute_result"
    }
   ],
   "source": [
    "pred_label=np.argmax(pred)\n",
    "classes={0:\"Not Pothole\",1:\"Pothole\"}\n",
    "classes[pred_label]"
   ]
  },
  {
   "cell_type": "code",
   "execution_count": null,
   "id": "c6c5b44d",
   "metadata": {},
   "outputs": [],
   "source": []
  },
  {
   "cell_type": "code",
   "execution_count": null,
   "id": "7d8dc0f9",
   "metadata": {},
   "outputs": [],
   "source": []
  }
 ],
 "metadata": {
  "kernelspec": {
   "display_name": "Python 3 (ipykernel)",
   "language": "python",
   "name": "python3"
  },
  "language_info": {
   "codemirror_mode": {
    "name": "ipython",
    "version": 3
   },
   "file_extension": ".py",
   "mimetype": "text/x-python",
   "name": "python",
   "nbconvert_exporter": "python",
   "pygments_lexer": "ipython3",
   "version": "3.9.13"
  }
 },
 "nbformat": 4,
 "nbformat_minor": 5
}
